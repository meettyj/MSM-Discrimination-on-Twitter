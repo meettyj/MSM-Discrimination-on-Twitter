{
 "cells": [
  {
   "cell_type": "code",
   "execution_count": 2,
   "metadata": {},
   "outputs": [],
   "source": [
    "from docx import Document\n"
   ]
  },
  {
   "cell_type": "code",
   "execution_count": 21,
   "metadata": {},
   "outputs": [
    {
     "name": "stdout",
     "output_type": "stream",
     "text": [
      "[['Coefficients', 'Estimate', 'Std. Error', 'Z value', 'Pr(>|z|'], ['(Intercept)', '-2.057e+00', '7.411e+00', '-0.278', '0.7813'], ['agef1y', '4.239e-03', '2.752e-01', '0.015', '0.9877'], ['eduf1', '-1.631e-01', '5.167e-01', '-0.316', '0.7522'], ['race_hispanic', '2.429e-02', '6.328e-01', '0.038', '0.9694'], ['race_black', '4.885e-01', '6.115e-01', '0.799', '0.4244'], ['race_asian', '1.182e+00', '6.980e-01', '1.694', '0.0904 .'], ['race_mixed_or_other', '-1.537e+01', '1.678e+03', '-0.009', '0.9927'], ['income_high', '-4.780e-01', '5.886e-01', '-0.812', '0.4167'], ['income_medium', '-1.602e-01', '5.188e-01', '-0.309', '0.7575']]\n"
     ]
    }
   ],
   "source": [
    "input_string = \"(Intercept)         -2.057e+00  7.411e+00  -0.278   0.7813  \\nagef1y               4.239e-03  2.752e-01   0.015   0.9877  \\neduf1               -1.631e-01  5.167e-01  -0.316   0.7522  \\nrace_hispanic        2.429e-02  6.328e-01   0.038   0.9694  \\nrace_black           4.885e-01  6.115e-01   0.799   0.4244  \\nrace_asian           1.182e+00  6.980e-01   1.694   0.0904 .\\nrace_mixed_or_other -1.537e+01  1.678e+03  -0.009   0.9927  \\nincome_high         -4.780e-01  5.886e-01  -0.812   0.4167  \\nincome_medium       -1.602e-01  5.188e-01  -0.309   0.7575  \"\n",
    "input_string = input_string.split('\\n')\n",
    "items_in_input_list = []\n",
    "# add columns name\n",
    "items_in_input_list.append(['Coefficients', 'Estimate', 'Std. Error', 'Z value', 'Pr(>|z|)'])\n",
    "# add value from input_string\n",
    "for line in input_string:\n",
    "    items_in_line = [item for item in line.split(' ') if item != '']\n",
    "#     print(len(items_in_line))\n",
    "    if len(items_in_line) > 5:\n",
    "        items_in_line[-2] = items_in_line[-2] + ' '+ items_in_line[-1]\n",
    "        del items_in_line[-1]\n",
    "        \n",
    "    items_in_input_list.append(items_in_line)\n",
    "#     break\n",
    "\n",
    "print(items_in_input_list)"
   ]
  },
  {
   "cell_type": "code",
   "execution_count": 3,
   "metadata": {},
   "outputs": [],
   "source": [
    "rows_num = 10\n",
    "cols_num = 5"
   ]
  },
  {
   "cell_type": "code",
   "execution_count": 4,
   "metadata": {},
   "outputs": [],
   "source": [
    "document = Document()\n",
    "table = document.add_table(rows=rows_num, cols=cols_num, style='Table Grid')"
   ]
  },
  {
   "cell_type": "code",
   "execution_count": null,
   "metadata": {},
   "outputs": [],
   "source": [
    "# def print_table(table):\n",
    "#     for row in table.rows:\n",
    "#         for cell in row.cells:\n",
    "#             print(cell.text)"
   ]
  },
  {
   "cell_type": "code",
   "execution_count": 25,
   "metadata": {},
   "outputs": [],
   "source": [
    "# add items into the table\n",
    "for row_index in range(len(items_in_input_list)):\n",
    "    for column_index in range(len(items_in_input_list[row_index])):\n",
    "        input_item = items_in_input_list[row_index][column_index]\n",
    "        table.cell(row_index, column_index).text = input_item\n",
    "\n",
    "# print_table(table)\n",
    "document.save('test.docx')"
   ]
  },
  {
   "cell_type": "code",
   "execution_count": null,
   "metadata": {},
   "outputs": [],
   "source": []
  }
 ],
 "metadata": {
  "kernelspec": {
   "display_name": "Python 3",
   "language": "python",
   "name": "python3"
  },
  "language_info": {
   "codemirror_mode": {
    "name": "ipython",
    "version": 3
   },
   "file_extension": ".py",
   "mimetype": "text/x-python",
   "name": "python",
   "nbconvert_exporter": "python",
   "pygments_lexer": "ipython3",
   "version": "3.6.5"
  }
 },
 "nbformat": 4,
 "nbformat_minor": 2
}
