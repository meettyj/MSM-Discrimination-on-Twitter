{
 "cells": [
  {
   "cell_type": "code",
   "execution_count": 52,
   "metadata": {},
   "outputs": [],
   "source": [
    "from docx import Document\n",
    "from docx.shared import Cm, Inches"
   ]
  },
  {
   "cell_type": "code",
   "execution_count": 82,
   "metadata": {},
   "outputs": [
    {
     "name": "stdout",
     "output_type": "stream",
     "text": [
      "[['Model', 'Coefficients', 'Estimate', 'Std. Error', 'Z value', 'Pr(>|z|)'], ['', '(Intercept)', '1.33341', '0.59054', '2.258', '0.02395 *'], ['', 'agef1y', '0.12088', '0.01971', '6.133', '8.64e-10 ***'], ['', 'eduf1', '0.31731', '0.03443', '9.215', '< 2e-16 ***'], ['', 'race_hispanic', '0.06967', '0.03880', '1.796', '0.07256 .'], ['', 'race_black', '-0.34048', '0.04700', '-7.244', '4.35e-13 ***'], ['', 'race_asian', '-0.44712', '0.06774', '-6.601', '4.09e-11 ***'], ['', 'race_mixed_or_other', '0.03652', '0.05829', '0.626', '0.53102'], ['', 'income_high', '-0.01437', '0.04203', '-0.342', '0.73242'], ['', 'income_medium', '0.11020', '0.04011', '2.747', '0.00601 **'], ['', 'AWM_SSSOM_Rac', '-2.96656', '0.45171', '-6.567', '5.12e-11 ***'], ['', '(Intercept)', '1.56035', '8.24066', '0.189', '0.8498'], ['', 'agef1y', '-0.01970', '0.27695', '-0.071', '0.9433'], ['', 'eduf1', '-0.17425', '0.51853', '-0.336', '0.7368'], ['', 'race_hispanic', '0.07199', '0.63534', '0.113', '0.9098'], ['', 'race_black', '0.61987', '0.62520', '0.991', '0.3215'], ['', 'race_asian', '1.29734', '0.70857', '1.831', '0.0671 .'], ['', 'race_mixed_or_other', '-15.34751', '1672.46869', '-0.009', '0.9927'], ['', 'income_high', '-0.48757', '0.58989', '-0.827', '0.4085'], ['', 'income_medium', '-0.14193', '0.52029', '-0.273', '0.7850'], ['', 'AWM_SSSOM_Rac', '-5.92359', '5.94848', '-0.996', '0.3193']]\n"
     ]
    }
   ],
   "source": [
    "input_string = \"(Intercept)          1.33341    0.59054   2.258  0.02395 *  \\nagef1y               0.12088    0.01971   6.133 8.64e-10 ***\\neduf1                0.31731    0.03443   9.215  < 2e-16 ***\\nrace_hispanic        0.06967    0.03880   1.796  0.07256 .  \\nrace_black          -0.34048    0.04700  -7.244 4.35e-13 ***\\nrace_asian          -0.44712    0.06774  -6.601 4.09e-11 ***\\nrace_mixed_or_other  0.03652    0.05829   0.626  0.53102    \\nincome_high         -0.01437    0.04203  -0.342  0.73242    \\nincome_medium        0.11020    0.04011   2.747  0.00601 ** \\nAWM_SSSOM_Rac       -2.96656    0.45171  -6.567 5.12e-11 ***\\n(Intercept)            1.56035    8.24066   0.189   0.8498  \\nagef1y                -0.01970    0.27695  -0.071   0.9433  \\neduf1                 -0.17425    0.51853  -0.336   0.7368  \\nrace_hispanic          0.07199    0.63534   0.113   0.9098  \\nrace_black             0.61987    0.62520   0.991   0.3215  \\nrace_asian             1.29734    0.70857   1.831   0.0671 .\\nrace_mixed_or_other  -15.34751 1672.46869  -0.009   0.9927  \\nincome_high           -0.48757    0.58989  -0.827   0.4085  \\nincome_medium         -0.14193    0.52029  -0.273   0.7850  \\nAWM_SSSOM_Rac         -5.92359    5.94848  -0.996   0.3193 \"\n",
    "input_string = input_string.split('\\n')\n",
    "items_in_input_list = []\n",
    "# add value from input_string\n",
    "for line in input_string:\n",
    "    items_in_line = [item for item in line.split(' ') if item != '']\n",
    "#     print(len(items_in_line))\n",
    "    if len(items_in_line) > 5:\n",
    "        if items_in_line[-3] == '<':\n",
    "            items_in_line[-3] = items_in_line[-3] + ' '+ items_in_line[-2]\n",
    "            del items_in_line[-2]\n",
    "        # combine the significance with the former one\n",
    "        items_in_line[-2] = items_in_line[-2] + ' '+ items_in_line[-1]\n",
    "        del items_in_line[-1]\n",
    "        \n",
    "    items_in_line.insert(0,'')\n",
    "    items_in_input_list.append(items_in_line)\n",
    "#     break\n",
    "\n",
    "# add columns name\n",
    "items_in_input_list.insert(0, ['Model', 'Coefficients', 'Estimate', 'Std. Error', 'Z value', 'Pr(>|z|)'])\n",
    "\n",
    "print(items_in_input_list)"
   ]
  },
  {
   "cell_type": "code",
   "execution_count": 83,
   "metadata": {},
   "outputs": [],
   "source": [
    "rows_num = 21\n",
    "cols_num = 6"
   ]
  },
  {
   "cell_type": "code",
   "execution_count": 84,
   "metadata": {},
   "outputs": [],
   "source": [
    "document = Document()\n",
    "table = document.add_table(rows=rows_num, cols=cols_num, style='Table Grid')"
   ]
  },
  {
   "cell_type": "code",
   "execution_count": 85,
   "metadata": {},
   "outputs": [],
   "source": [
    "# add items into the table\n",
    "for row_index in range(len(items_in_input_list)):\n",
    "    for column_index in range(len(items_in_input_list[row_index])):\n",
    "        input_item = items_in_input_list[row_index][column_index]\n",
    "        table.cell(row_index, column_index).text = input_item\n",
    "        # set the column width\n",
    "        if column_index == 4:\n",
    "            table.cell(row_index, column_index).width = Inches(0.7)\n",
    "\n",
    "# merge cells\n",
    "for row_index in range(1, len(items_in_input_list)-1):\n",
    "    if row_index == 10:\n",
    "        continue\n",
    "    cell_self = table.cell(row_index, 0)\n",
    "    cell_next = table.cell(row_index+1, 0)\n",
    "    cell_self.merge(cell_next)\n",
    "\n",
    "# add model's name in the first column\n",
    "table.cell(1, 0).text = 'Count model'\n",
    "table.cell(11, 0).text = 'Zero-inflation model'\n",
    "\n",
    "# print_table(table)\n",
    "document.save('temp.docx')"
   ]
  },
  {
   "cell_type": "code",
   "execution_count": null,
   "metadata": {},
   "outputs": [],
   "source": []
  }
 ],
 "metadata": {
  "kernelspec": {
   "display_name": "Python 3",
   "language": "python",
   "name": "python3"
  },
  "language_info": {
   "codemirror_mode": {
    "name": "ipython",
    "version": 3
   },
   "file_extension": ".py",
   "mimetype": "text/x-python",
   "name": "python",
   "nbconvert_exporter": "python",
   "pygments_lexer": "ipython3",
   "version": "3.6.5"
  }
 },
 "nbformat": 4,
 "nbformat_minor": 2
}
