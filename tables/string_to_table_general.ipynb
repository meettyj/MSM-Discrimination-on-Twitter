{
 "cells": [
  {
   "cell_type": "code",
   "execution_count": 1,
   "metadata": {},
   "outputs": [],
   "source": [
    "from docx import Document\n",
    "from docx.shared import Cm, Inches"
   ]
  },
  {
   "cell_type": "code",
   "execution_count": 2,
   "metadata": {},
   "outputs": [],
   "source": [
    "rows_num = 19\n",
    "cols_num = 6"
   ]
  },
  {
   "cell_type": "code",
   "execution_count": 12,
   "metadata": {},
   "outputs": [
    {
     "name": "stdout",
     "output_type": "stream",
     "text": [
      "[['Model', 'Coefficients', 'Estimate', 'Std. Error', 'Z value', 'Pr(>|z|)'], ['', '(Intercept)', '-5.18916', '0.67627', '-7.673', '1.68e-14 ***'], ['', 'agef1y', '0.30079', '0.02477', '12.142', '< 2e-16 ***'], ['', 'eduf1', '0.48590', '0.04004', '12.137', '< 2e-16 ***'], ['', 'race_hispanic', '0.12092', '0.04522', '2.674', '0.00750 **'], ['', 'race_black', '-0.39766', '0.05470', '-7.270', '3.59e-13 ***'], ['', 'race_asian', '-0.82585', '0.08646', '-9.551', '< 2e-16 ***'], ['', 'race_mixed_or_other', '0.21544', '0.06573', '3.278', '0.00105 **'], ['', 'income_high', '-0.12481', '0.04988', '-2.502', '0.01234 *'], ['', 'income_medium', '0.02489', '0.04724', '0.527', '0.59820'], ['', '(Intercept)', '-2.08856', '5.17120', '-0.404', '0.6863'], ['', 'agef1y', '0.04179', '0.19211', '0.218', '0.8278'], ['', 'eduf1', '0.05617', '0.35561', '0.158', '0.8745'], ['', 'race_hispanic', '0.57463', '0.43150', '1.332', '0.1830'], ['', 'race_black', '0.76591', '0.44136', '1.735', '0.0827 .'], ['', 'race_asian', '0.96741', '0.55534', '1.742', '0.0815 .'], ['', 'race_mixed_or_other', '0.15486', '0.67880', '0.228', '0.8195'], ['', 'income_high', '-0.20645', '0.39567', '-0.522', '0.6018'], ['', 'income_medium', '-0.61555', '0.38208', '-1.611', '0.1072']]\n"
     ]
    }
   ],
   "source": [
    "input_string = \"(Intercept)         -5.18916    0.67627  -7.673 1.68e-14 ***\\nagef1y               0.30079    0.02477  12.142  < 2e-16 ***\\neduf1                0.48590    0.04004  12.137  < 2e-16 ***\\nrace_hispanic        0.12092    0.04522   2.674  0.00750 ** \\nrace_black          -0.39766    0.05470  -7.270 3.59e-13 ***\\nrace_asian          -0.82585    0.08646  -9.551  < 2e-16 ***\\nrace_mixed_or_other  0.21544    0.06573   3.278  0.00105 ** \\nincome_high         -0.12481    0.04988  -2.502  0.01234 *  \\nincome_medium        0.02489    0.04724   0.527  0.59820    \\n(Intercept)         -2.08856    5.17120  -0.404   0.6863  \\nagef1y               0.04179    0.19211   0.218   0.8278  \\neduf1                0.05617    0.35561   0.158   0.8745  \\nrace_hispanic        0.57463    0.43150   1.332   0.1830  \\nrace_black           0.76591    0.44136   1.735   0.0827 .\\nrace_asian           0.96741    0.55534   1.742   0.0815 .\\nrace_mixed_or_other  0.15486    0.67880   0.228   0.8195  \\nincome_high         -0.20645    0.39567  -0.522   0.6018  \\nincome_medium       -0.61555    0.38208  -1.611   0.1072  \"\n",
    "input_string = input_string.split('\\n')\n",
    "items_in_input_list = []\n",
    "# add value from input_string\n",
    "for line in input_string:\n",
    "    items_in_line = [item for item in line.split(' ') if item != '']\n",
    "#     print(len(items_in_line))\n",
    "    if len(items_in_line) > 5:\n",
    "        if items_in_line[-3] == '<':\n",
    "            items_in_line[-3] = items_in_line[-3] + ' '+ items_in_line[-2]\n",
    "            del items_in_line[-2]\n",
    "        # combine the significance with the former one\n",
    "        items_in_line[-2] = items_in_line[-2] + ' '+ items_in_line[-1]\n",
    "        del items_in_line[-1]\n",
    "        \n",
    "    items_in_line.insert(0,'')\n",
    "    items_in_input_list.append(items_in_line)\n",
    "#     break\n",
    "\n",
    "# add columns name\n",
    "items_in_input_list.insert(0, ['Model', 'Coefficients', 'Estimate', 'Std. Error', 'Z value', 'Pr(>|z|)'])\n",
    "\n",
    "print(items_in_input_list)"
   ]
  },
  {
   "cell_type": "code",
   "execution_count": 13,
   "metadata": {},
   "outputs": [],
   "source": [
    "document = Document()\n",
    "table = document.add_table(rows=rows_num, cols=cols_num, style='Table Grid')"
   ]
  },
  {
   "cell_type": "code",
   "execution_count": 14,
   "metadata": {},
   "outputs": [],
   "source": [
    "# add items into the table\n",
    "for row_index in range(len(items_in_input_list)):\n",
    "    for column_index in range(len(items_in_input_list[row_index])):\n",
    "        input_item = items_in_input_list[row_index][column_index]\n",
    "        table.cell(row_index, column_index).text = input_item\n",
    "        # set the column width\n",
    "        if column_index == 4:\n",
    "            table.cell(row_index, column_index).width = Inches(0.7)\n",
    "\n",
    "# merge cells\n",
    "for row_index in range(1, len(items_in_input_list)-1):\n",
    "    if row_index == 9:\n",
    "        continue\n",
    "    cell_self = table.cell(row_index, 0)\n",
    "    cell_next = table.cell(row_index+1, 0)\n",
    "    cell_self.merge(cell_next)\n",
    "\n",
    "# add model's name in the first column\n",
    "table.cell(1, 0).text = 'Count model'\n",
    "table.cell(10, 0).text = 'Zero-inflation model'\n",
    "\n",
    "# print_table(table)\n",
    "document.save('temp.docx')"
   ]
  },
  {
   "cell_type": "code",
   "execution_count": null,
   "metadata": {},
   "outputs": [],
   "source": []
  }
 ],
 "metadata": {
  "kernelspec": {
   "display_name": "Python 3",
   "language": "python",
   "name": "python3"
  },
  "language_info": {
   "codemirror_mode": {
    "name": "ipython",
    "version": 3
   },
   "file_extension": ".py",
   "mimetype": "text/x-python",
   "name": "python",
   "nbconvert_exporter": "python",
   "pygments_lexer": "ipython3",
   "version": "3.6.5"
  }
 },
 "nbformat": 4,
 "nbformat_minor": 2
}
