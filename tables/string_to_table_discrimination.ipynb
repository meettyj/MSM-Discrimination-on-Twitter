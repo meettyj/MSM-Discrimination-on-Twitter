{
 "cells": [
  {
   "cell_type": "code",
   "execution_count": 1,
   "metadata": {},
   "outputs": [],
   "source": [
    "from docx import Document\n",
    "from docx.shared import Cm, Inches"
   ]
  },
  {
   "cell_type": "code",
   "execution_count": 2,
   "metadata": {},
   "outputs": [],
   "source": [
    "rows_num = 21\n",
    "cols_num = 6"
   ]
  },
  {
   "cell_type": "code",
   "execution_count": 9,
   "metadata": {
    "scrolled": true
   },
   "outputs": [
    {
     "name": "stdout",
     "output_type": "stream",
     "text": [
      "[['Model', 'Coefficients', 'Estimate', 'Std. Error', 'Z value', 'Pr(>|z|)'], ['', '(Intercept)', '-5.12633', '0.67657', '-7.577', '3.54e-14 ***'], ['', 'agef1y', '0.30026', '0.02474', '12.135', '< 2e-16 ***'], ['', 'eduf1', '0.48157', '0.04013', '12.000', '< 2e-16 ***'], ['', 'race_hispanic', '0.13135', '0.04555', '2.884', '0.00393 **'], ['', 'race_black', '-0.39885', '0.05468', '-7.294', '3.02e-13 ***'], ['', 'race_asian', '-0.77893', '0.08967', '-8.686', '< 2e-16 ***'], ['', 'race_mixed_or_other', '0.21442', '0.06578', '3.260', '0.00112 **'], ['', 'income_high', '-0.13513', '0.05010', '-2.697', '0.00699 **'], ['', 'income_medium', '0.02460', '0.04724', '0.521', '0.60253'], ['', 'AWM_Hom_grid', '-0.07041', '0.03783', '-1.861', '0.06272 .'], ['', '(Intercept)', '-2.87028', '5.22689', '-0.549', '0.583'], ['', 'agef1y', '0.06616', '0.19413', '0.341', '0.733'], ['', 'eduf1', '0.02505', '0.36169', '0.069', '0.945'], ['', 'race_hispanic', '0.56083', '0.43292', '1.295', '0.195'], ['', 'race_black', '0.67567', '0.44681', '1.512', '0.130'], ['', 'race_asian', '0.91942', '0.56176', '1.637', '0.102'], ['', 'race_mixed_or_other', '0.17216', '0.67971', '0.253', '0.800'], ['', 'income_high', '-0.16968', '0.40025', '-0.424', '0.672'], ['', 'income_medium', '-0.61975', '0.38792', '-1.598', '0.110'], ['', 'AWM_Hom_grid', '0.15501', '0.28927', '0.536', '0.592']]\n"
     ]
    }
   ],
   "source": [
    "input_string = \"(Intercept)         -5.12633    0.67657  -7.577 3.54e-14 ***\\nagef1y               0.30026    0.02474  12.135  < 2e-16 ***\\neduf1                0.48157    0.04013  12.000  < 2e-16 ***\\nrace_hispanic        0.13135    0.04555   2.884  0.00393 ** \\nrace_black          -0.39885    0.05468  -7.294 3.02e-13 ***\\nrace_asian          -0.77893    0.08967  -8.686  < 2e-16 ***\\nrace_mixed_or_other  0.21442    0.06578   3.260  0.00112 ** \\nincome_high         -0.13513    0.05010  -2.697  0.00699 ** \\nincome_medium        0.02460    0.04724   0.521  0.60253    \\nAWM_Hom_grid        -0.07041    0.03783  -1.861  0.06272 .  \\n(Intercept)         -2.87028    5.22689  -0.549    0.583\\nagef1y               0.06616    0.19413   0.341    0.733\\neduf1                0.02505    0.36169   0.069    0.945\\nrace_hispanic        0.56083    0.43292   1.295    0.195\\nrace_black           0.67567    0.44681   1.512    0.130\\nrace_asian           0.91942    0.56176   1.637    0.102\\nrace_mixed_or_other  0.17216    0.67971   0.253    0.800\\nincome_high         -0.16968    0.40025  -0.424    0.672\\nincome_medium       -0.61975    0.38792  -1.598    0.110\\nAWM_Hom_grid         0.15501    0.28927   0.536    0.592\"\n",
    "input_string = input_string.split('\\n')\n",
    "items_in_input_list = []\n",
    "# add value from input_string\n",
    "for line in input_string:\n",
    "    items_in_line = [item for item in line.split(' ') if item != '']\n",
    "#     print(len(items_in_line))\n",
    "    if len(items_in_line) > 5:\n",
    "        if items_in_line[-3] == '<':\n",
    "            items_in_line[-3] = items_in_line[-3] + ' '+ items_in_line[-2]\n",
    "            del items_in_line[-2]\n",
    "        # combine the significance with the former one\n",
    "        items_in_line[-2] = items_in_line[-2] + ' '+ items_in_line[-1]\n",
    "        del items_in_line[-1]\n",
    "        \n",
    "    items_in_line.insert(0,'')\n",
    "    items_in_input_list.append(items_in_line)\n",
    "#     break\n",
    "\n",
    "# add columns name\n",
    "items_in_input_list.insert(0, ['Model', 'Coefficients', 'Estimate', 'Std. Error', 'Z value', 'Pr(>|z|)'])\n",
    "\n",
    "print(items_in_input_list)"
   ]
  },
  {
   "cell_type": "code",
   "execution_count": 10,
   "metadata": {},
   "outputs": [],
   "source": [
    "document = Document()\n",
    "table = document.add_table(rows=rows_num, cols=cols_num, style='Table Grid')"
   ]
  },
  {
   "cell_type": "code",
   "execution_count": 11,
   "metadata": {},
   "outputs": [],
   "source": [
    "# add items into the table\n",
    "for row_index in range(len(items_in_input_list)):\n",
    "    for column_index in range(len(items_in_input_list[row_index])):\n",
    "        input_item = items_in_input_list[row_index][column_index]\n",
    "        table.cell(row_index, column_index).text = input_item\n",
    "        # set the column width\n",
    "        if column_index == 4:\n",
    "            table.cell(row_index, column_index).width = Inches(0.7)\n",
    "\n",
    "# merge cells\n",
    "for row_index in range(1, len(items_in_input_list)-1):\n",
    "    if row_index == 10:\n",
    "        continue\n",
    "    cell_self = table.cell(row_index, 0)\n",
    "    cell_next = table.cell(row_index+1, 0)\n",
    "    cell_self.merge(cell_next)\n",
    "\n",
    "# add model's name in the first column\n",
    "table.cell(1, 0).text = 'Count model'\n",
    "table.cell(11, 0).text = 'Zero-inflation model'\n",
    "\n",
    "# print_table(table)\n",
    "document.save('temp.docx')"
   ]
  },
  {
   "cell_type": "code",
   "execution_count": null,
   "metadata": {},
   "outputs": [],
   "source": []
  }
 ],
 "metadata": {
  "kernelspec": {
   "display_name": "Python 3",
   "language": "python",
   "name": "python3"
  },
  "language_info": {
   "codemirror_mode": {
    "name": "ipython",
    "version": 3
   },
   "file_extension": ".py",
   "mimetype": "text/x-python",
   "name": "python",
   "nbconvert_exporter": "python",
   "pygments_lexer": "ipython3",
   "version": "3.6.5"
  }
 },
 "nbformat": 4,
 "nbformat_minor": 2
}
