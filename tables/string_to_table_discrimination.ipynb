{
 "cells": [
  {
   "cell_type": "code",
   "execution_count": 52,
   "metadata": {},
   "outputs": [],
   "source": [
    "from docx import Document\n",
    "from docx.shared import Cm, Inches"
   ]
  },
  {
   "cell_type": "code",
   "execution_count": 111,
   "metadata": {},
   "outputs": [],
   "source": [
    "rows_num = 21\n",
    "cols_num = 6"
   ]
  },
  {
   "cell_type": "code",
   "execution_count": 142,
   "metadata": {
    "scrolled": true
   },
   "outputs": [
    {
     "name": "stdout",
     "output_type": "stream",
     "text": [
      "[['Model', 'Coefficients', 'Estimate', 'Std. Error', 'Z value', 'Pr(>|z|)'], ['', '(Intercept)', '-4.88727', '0.72093', '-6.779', '1.21e-11 ***'], ['', 'agef1y', '0.29783', '0.02491', '11.957', '< 2e-16 ***'], ['', 'eduf1', '0.47464', '0.04108', '11.555', '< 2e-16 ***'], ['', 'race_hispanic', '0.13744', '0.04717', '2.914', '0.003569 **'], ['', 'race_black', '-0.38712', '0.05536', '-6.992', '2.71e-12 ***'], ['', 'race_asian', '-0.81556', '0.08688', '-9.387', '< 2e-16 ***'], ['', 'race_mixed_or_other', '0.22987', '0.06675', '3.444', '0.000573 ***'], ['', 'income_high', '-0.13161', '0.05019', '-2.622', '0.008739 **'], ['', 'income_medium', '0.02552', '0.04724', '0.540', '0.589097'], ['', 'AWM_Zip_Hom', '-0.13329', '0.10958', '-1.216', '0.223840'], ['', '(Intercept)', '-5.20951', '5.50631', '-0.946', '0.3441'], ['', 'agef1y', '0.06590', '0.19304', '0.341', '0.7328'], ['', 'eduf1', '0.09653', '0.35806', '0.270', '0.7875'], ['', 'race_hispanic', '0.38935', '0.44823', '0.869', '0.3850'], ['', 'race_black', '0.68697', '0.44666', '1.538', '0.1241'], ['', 'race_asian', '0.98485', '0.55802', '1.765', '0.0776 .'], ['', 'race_mixed_or_other', '0.06430', '0.68618', '0.094', '0.9253'], ['', 'income_high', '-0.14279', '0.40057', '-0.356', '0.7215'], ['', 'income_medium', '-0.62736', '0.38480', '-1.630', '0.1030'], ['', 'AWM_Zip_Hom', '1.46376', '0.86999', '1.682', '0.0925 .']]\n"
     ]
    }
   ],
   "source": [
    "input_string = \"(Intercept)         -4.88727    0.72093  -6.779 1.21e-11 ***\\nagef1y               0.29783    0.02491  11.957  < 2e-16 ***\\neduf1                0.47464    0.04108  11.555  < 2e-16 ***\\nrace_hispanic        0.13744    0.04717   2.914 0.003569 ** \\nrace_black          -0.38712    0.05536  -6.992 2.71e-12 ***\\nrace_asian          -0.81556    0.08688  -9.387  < 2e-16 ***\\nrace_mixed_or_other  0.22987    0.06675   3.444 0.000573 ***\\nincome_high         -0.13161    0.05019  -2.622 0.008739 ** \\nincome_medium        0.02552    0.04724   0.540 0.589097    \\nAWM_Zip_Hom         -0.13329    0.10958  -1.216 0.223840    \\n(Intercept)         -5.20951    5.50631  -0.946   0.3441  \\nagef1y               0.06590    0.19304   0.341   0.7328  \\neduf1                0.09653    0.35806   0.270   0.7875  \\nrace_hispanic        0.38935    0.44823   0.869   0.3850  \\nrace_black           0.68697    0.44666   1.538   0.1241  \\nrace_asian           0.98485    0.55802   1.765   0.0776 .\\nrace_mixed_or_other  0.06430    0.68618   0.094   0.9253  \\nincome_high         -0.14279    0.40057  -0.356   0.7215  \\nincome_medium       -0.62736    0.38480  -1.630   0.1030  \\nAWM_Zip_Hom          1.46376    0.86999   1.682   0.0925 .\"\n",
    "input_string = input_string.split('\\n')\n",
    "items_in_input_list = []\n",
    "# add value from input_string\n",
    "for line in input_string:\n",
    "    items_in_line = [item for item in line.split(' ') if item != '']\n",
    "#     print(len(items_in_line))\n",
    "    if len(items_in_line) > 5:\n",
    "        if items_in_line[-3] == '<':\n",
    "            items_in_line[-3] = items_in_line[-3] + ' '+ items_in_line[-2]\n",
    "            del items_in_line[-2]\n",
    "        # combine the significance with the former one\n",
    "        items_in_line[-2] = items_in_line[-2] + ' '+ items_in_line[-1]\n",
    "        del items_in_line[-1]\n",
    "        \n",
    "    items_in_line.insert(0,'')\n",
    "    items_in_input_list.append(items_in_line)\n",
    "#     break\n",
    "\n",
    "# add columns name\n",
    "items_in_input_list.insert(0, ['Model', 'Coefficients', 'Estimate', 'Std. Error', 'Z value', 'Pr(>|z|)'])\n",
    "\n",
    "print(items_in_input_list)"
   ]
  },
  {
   "cell_type": "code",
   "execution_count": 143,
   "metadata": {},
   "outputs": [],
   "source": [
    "document = Document()\n",
    "table = document.add_table(rows=rows_num, cols=cols_num, style='Table Grid')"
   ]
  },
  {
   "cell_type": "code",
   "execution_count": 144,
   "metadata": {},
   "outputs": [],
   "source": [
    "# add items into the table\n",
    "for row_index in range(len(items_in_input_list)):\n",
    "    for column_index in range(len(items_in_input_list[row_index])):\n",
    "        input_item = items_in_input_list[row_index][column_index]\n",
    "        table.cell(row_index, column_index).text = input_item\n",
    "        # set the column width\n",
    "        if column_index == 4:\n",
    "            table.cell(row_index, column_index).width = Inches(0.7)\n",
    "\n",
    "# merge cells\n",
    "for row_index in range(1, len(items_in_input_list)-1):\n",
    "    if row_index == 10:\n",
    "        continue\n",
    "    cell_self = table.cell(row_index, 0)\n",
    "    cell_next = table.cell(row_index+1, 0)\n",
    "    cell_self.merge(cell_next)\n",
    "\n",
    "# add model's name in the first column\n",
    "table.cell(1, 0).text = 'Count model'\n",
    "table.cell(11, 0).text = 'Zero-inflation model'\n",
    "\n",
    "# print_table(table)\n",
    "document.save('temp.docx')"
   ]
  },
  {
   "cell_type": "code",
   "execution_count": null,
   "metadata": {},
   "outputs": [],
   "source": []
  }
 ],
 "metadata": {
  "kernelspec": {
   "display_name": "Python 3",
   "language": "python",
   "name": "python3"
  },
  "language_info": {
   "codemirror_mode": {
    "name": "ipython",
    "version": 3
   },
   "file_extension": ".py",
   "mimetype": "text/x-python",
   "name": "python",
   "nbconvert_exporter": "python",
   "pygments_lexer": "ipython3",
   "version": "3.6.5"
  }
 },
 "nbformat": 4,
 "nbformat_minor": 2
}
